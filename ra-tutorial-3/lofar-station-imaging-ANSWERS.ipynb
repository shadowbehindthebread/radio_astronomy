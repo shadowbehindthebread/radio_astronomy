{
 "cells": [
  {
   "cell_type": "markdown",
   "id": "a6af133f-95d3-42fa-b504-d230a9740cc1",
   "metadata": {},
   "source": [
    "# LOFAR station imaging\n",
    "\n",
    "\n",
    "The aim of this notebook is to create an image from actual LOFAR data recorded with station CS501 in LBA_OUTER configuration: the outermost 48 Low Band Antennas."
   ]
  },
  {
   "cell_type": "code",
   "execution_count": null,
   "id": "71c03422-47d7-4c80-9608-ae1fbf145d95",
   "metadata": {},
   "outputs": [],
   "source": [
    "%load_ext autoreload\n",
    "%autoreload 2\n",
    "%matplotlib widget"
   ]
  },
  {
   "cell_type": "code",
   "execution_count": null,
   "id": "f3f3ee3f-39be-43e1-8edc-9f6b36b2f7a1",
   "metadata": {},
   "outputs": [],
   "source": [
    "import os\n",
    "import numpy as np\n",
    "from astropy import units as u\n",
    "from matplotlib import pyplot as plt\n",
    "from lofarantpos.db import LofarAntennaDatabase\n",
    "\n",
    "def hdfig(subplots_def=None, scale=0.5, figsize=(8, 4.5)):\n",
    "    fig = plt.figure(figsize=figsize, dpi=scale*1920/8)\n",
    "    if subplots_def is None:\n",
    "        return fig\n",
    "    else:\n",
    "        return fig, fig.subplots(*subplots_def) # What does the asterisk here mean?\n",
    "\n",
    "db = LofarAntennaDatabase()"
   ]
  },
  {
   "cell_type": "markdown",
   "id": "9b176620-9833-41e1-bdd0-7898e896d502",
   "metadata": {},
   "source": [
    "## Lofar Station CS501 in LBA_OUTER configuration\n",
    "\n",
    "The antenna station is the northernmost of the LOFAR core area. You can find out where it is by using the (select station) button in the top right of the following web site: https://www.astron.nl/lofartools/lofarmap.html\n",
    "\n"
   ]
  },
  {
   "cell_type": "code",
   "execution_count": null,
   "id": "be034fdd-3bae-44a9-aa53-0241971118d5",
   "metadata": {},
   "outputs": [],
   "source": [
    "ant_pos = db.antenna_pqr('CS501LBA')[48:]*u.m # Positions of the outer 48 LBA antennas of station 501\n",
    "ant_pos.shape"
   ]
  },
  {
   "cell_type": "markdown",
   "id": "fa82b162-5d57-4efd-8878-2d99422aec67",
   "metadata": {},
   "source": [
    "Plot the antenna's x- and y- *positions* using a scatter plot. set ax.axis('equal') to straighten the plot. Note that the antenna positions in the array are three-dimensional."
   ]
  },
  {
   "cell_type": "code",
   "execution_count": null,
   "id": "29799951-6ebc-430f-875d-ba4b93a034c9",
   "metadata": {},
   "outputs": [],
   "source": [
    "fig, ax = hdfig((1,1))\n",
    "ax.scatter(ant_pos[:,0], ant_pos[:,1])  # FILL_IN make a scatter plot of the x- and y- coordinates\n",
    "#for ant_id, pos in enumerate(ant_pos):  \n",
    "#    ax.text(pos[0], pos[1], '%02d' % ant_id)\n",
    "ax.set_xlabel('X [%s]' % ant_pos.unit)\n",
    "ax.set_ylabel('Y [%s]' % ant_pos.unit)\n",
    "ax.axis('equal')"
   ]
  },
  {
   "cell_type": "markdown",
   "id": "399f0918-0182-4310-be8a-37f271c5d694",
   "metadata": {},
   "source": [
    "**QUESTIONS**\n",
    "\n",
    "1. Does the map you generated above match with the aerial photography on the lofarmap web site? If not: fix it.\n",
    "\n",
    "2. What does the vertical position distribution look like? How large are the $z$ coordinates typically?\n",
    "\n",
    "A: (sub) mm: very small\n",
    "\n",
    "3. What is the approximate station diameter?\n",
    "\n",
    "A: 80 m\n",
    "\n",
    "Now proceed by extracting the lofar data you downloaded from the data repository according to the instructions in the Syllabus into a directory called `cs501-data`. The so-called \"xst\" or \"cross-correlation statistics\" files contain the output of the station correlator. Execute the following cell:"
   ]
  },
  {
   "cell_type": "code",
   "execution_count": null,
   "id": "d591a538-adec-432b-88c5-871705abddca",
   "metadata": {},
   "outputs": [],
   "source": [
    "DATADIR = \"./cs501-data/\"\n",
    "acm_file_names = os.listdir(DATADIR)\n",
    "acm_file_names"
   ]
  },
  {
   "cell_type": "markdown",
   "id": "0c8af872-e6c7-4810-9203-2725b428c0b3",
   "metadata": {},
   "source": [
    "The file names have a few components\n",
    "\n",
    "- Date and time in UTC of the beginning of the first integration\n",
    "- The receiver unit (RCU) mode (mode 1 means \"the outer 48 Low Band Antennas of the station, with the possibility to observe between 10 and 90 MHz\")\n",
    "- The subband number\n",
    "\n",
    "Lofar's ADC samples the data at 12 bits at a sample rate of 200 MHz.\n",
    "\n",
    "**QUESTION**\n",
    "\n",
    "1. What is the maximum band width that can be sampled at the Nyquist rate?\n",
    "\n",
    "A: 100 MHz\n",
    "\n",
    "To ensure the quasi-monochromatic assumption is reasonable, the station's processing boards (\"RSP boards\") split this maximum band width into 512 sub bands, where the first (sb000) has a frequency of 0 MHz.\n",
    "\n",
    "Complete the following function to calculate the central frequency for a subband:"
   ]
  },
  {
   "cell_type": "code",
   "execution_count": null,
   "id": "c71f8408-204e-4c2e-a371-8486df01cb48",
   "metadata": {},
   "outputs": [],
   "source": [
    "def subband_frequency(subband_number, clock_frequency=200*u.MHz):\n",
    "    r'''\n",
    "    Returns an astropy quantity containing the subband frequency.\n",
    "    \n",
    "    **Examples**\n",
    "    \n",
    "    >>> f = subband_frequency(128)\n",
    "    >>> type(f)\n",
    "    astropy.units.quantity.Quantity\n",
    "    >>> print(f)\n",
    "    25.0 MHz\n",
    "    '''\n",
    "    return (subband_number/512)*clock_frequency/2 # FILL_IN\n",
    "\n",
    "#TEST CODE\n",
    "assert subband_frequency(128) == 25.0*u.MHz"
   ]
  },
  {
   "cell_type": "markdown",
   "id": "7eb6ba9d-8904-4881-bede-8527c9b61723",
   "metadata": {},
   "source": [
    "## XST .dat File contents\n",
    "\n",
    "The files contain a 3D array of `np.complex128` numbers. In this case, for the LBA_OUTER configuration, the even receive units(RCUs) contain the \"y-polarisation\" data, and the odd ones the \"x-polarisation\" data. The following function can read such a file. The integration time was 1 second per \"frame\" or \"time slot\". The duration of the observations was typically 10 seconds."
   ]
  },
  {
   "cell_type": "code",
   "execution_count": null,
   "id": "168ba46d-8d74-4665-bef8-910ac70f4a0f",
   "metadata": {},
   "outputs": [],
   "source": [
    "def read_acm_cube(filename, num_rcus=96):\n",
    "    r'''\n",
    "    **Parameters**\n",
    "\n",
    "    filename : string\n",
    "        The file containing the array correlation matrix.\n",
    "\n",
    "    num_rcus : int\n",
    "        Number of receiver units (twice the number of antennas) used in the correlator.\n",
    "        Default for Dutch stations is 96\n",
    "\n",
    "    **Returns**\n",
    "\n",
    "    A 3D cube of complex numbers, where the indices are [time slot, rcu, rcu].\n",
    "\n",
    "    **Examples**\n",
    "\n",
    "    >>> cube = read_acm_cube('test/DE602C/sb296/20120109_232258_xst.dat', 192)\n",
    "    >>> cube.shape\n",
    "    (4, 192, 192)\n",
    "    '''\n",
    "    data       = np.fromfile(filename, dtype = np.complex128)\n",
    "    time_slots = len(data)//num_rcus//num_rcus\n",
    "    return data.reshape((time_slots, num_rcus, num_rcus))\n"
   ]
  },
  {
   "cell_type": "markdown",
   "id": "8e1fbcf5-d13f-428b-ad15-844a0db053cc",
   "metadata": {},
   "source": [
    "We will now read the data file containing the array correlation matrices (\"visibilities\") for subband 290. Note that these data are uncalibrated cross-correlations, straight from the processing boards at the LOFAR station."
   ]
  },
  {
   "cell_type": "markdown",
   "id": "cdc8f8ca-256c-4082-bfe3-1240e4386312",
   "metadata": {},
   "source": [
    "**QUESTION**\n",
    "\n",
    "1. What is the observing frequency for that sub band?\n",
    "\n",
    "A: approximately 56.6406 MHz\n",
    "\n"
   ]
  },
  {
   "cell_type": "code",
   "execution_count": null,
   "id": "6d14653a-4596-424d-9e48-1482bb2cb266",
   "metadata": {},
   "outputs": [],
   "source": [
    "subband_frequency(290) # FILL_IN using one of the functions defined earlier"
   ]
  },
  {
   "cell_type": "code",
   "execution_count": null,
   "id": "b2962e2e-480b-4caf-96f1-03e8ef5fbe45",
   "metadata": {},
   "outputs": [],
   "source": [
    "acm_cube = read_acm_cube('cs501-data/20201111_140201_mode_1_xst_sb290.dat')  # FILL_IN\n",
    "acm_cube.shape"
   ]
  },
  {
   "cell_type": "markdown",
   "id": "81dfd114-913c-43d5-9a1b-4cd2d3d595c7",
   "metadata": {},
   "source": [
    "**QUESTIONS**\n",
    "\n",
    "1. What is the slowest varying (first) index into the array?\n",
    "\n",
    "A: Time slot (and in this case: time because of the 1 second integration time)"
   ]
  },
  {
   "cell_type": "markdown",
   "id": "a39e8aad-b163-4a8f-a936-61869a6a92d2",
   "metadata": {},
   "source": [
    "The following two functions are used to inspect/view the array correlation matrices. Study them carefully before proceeding "
   ]
  },
  {
   "cell_type": "code",
   "execution_count": null,
   "id": "f8a22a67-a0e5-45ed-abc3-908955a272ef",
   "metadata": {},
   "outputs": [],
   "source": [
    "def plot_acm_frame(acm, ax):\n",
    "    ax.imshow(np.log10(np.absolute(acm)))\n",
    "    ax.set_xlabel('Col')\n",
    "    ax.set_ylabel('Row')\n",
    "    \n",
    "def plot_raw_acm_cube(acm_cube):\n",
    "    fig, ((tl,tr),(bl, br)) = hdfig((2,2))\n",
    "    fig.subplots_adjust(hspace=0.5)\n",
    "    tl.set_title('Median ACM')\n",
    "    plot_acm_frame(np.median(acm_cube,axis=0), ax=tl)\n",
    "\n",
    "    tr.set_title('Mean ACM')\n",
    "    tr.plot(np.absolute(acm_cube).reshape((acm_cube.shape[0],-1)).mean(axis=1))\n",
    "    tr.set_xlabel('Time slot')\n",
    "\n",
    "    bl.set_title('Mean auto-correlation')\n",
    "    bl.plot(np.absolute(np.diag(acm_cube.mean(axis=0))))\n",
    "    bl.set_xlabel('RCU')\n",
    "\n",
    "    br.set_title('Stddev ACM')\n",
    "    br.plot(np.absolute(acm_cube).reshape((acm_cube.shape[0],-1)).std(axis=1))\n",
    "    br.set_xlabel('Time slot')\n",
    "    \n"
   ]
  },
  {
   "cell_type": "code",
   "execution_count": null,
   "id": "369852c9-77ab-4a7b-a776-1e42d0f4d6a4",
   "metadata": {},
   "outputs": [],
   "source": [
    "plot_raw_acm_cube(acm_cube)"
   ]
  },
  {
   "cell_type": "markdown",
   "id": "9692fc15-f151-4515-a763-dc0edf3c41de",
   "metadata": {},
   "source": [
    "Note the banded structure of the median ACM. We'll get back to that shortly. Are there any time slots or RCUs that stand out significantly from the others? If so, take note of that and make additional plots of the specific time slots, or other sub-sets of data involving the specific RCU.\n",
    "\n",
    "Now repeat these plots for some of the other sub bands.\n",
    "\n",
    "**QUESTIONS**\n",
    "\n",
    "1. In some sub bands you'll see (some) time slots with significantly higher standard deviation and mean ACM. What could cause that?\n",
    "\n",
    "A: radio interference from (likely) non-natural sources.\n",
    "\n",
    "2. Inspect the ACM in one time frame that exhibits strong mean amplitude or standard deviation. Describe the ACM structure.\n",
    "\n",
    "A: The ACM looks much more like a checkerboard. Contrast between auto-correlation and cross-correlations is weaker.\n"
   ]
  },
  {
   "cell_type": "markdown",
   "id": "3e2e5159-d9d6-4120-95de-e04c45ce87e8",
   "metadata": {},
   "source": [
    "## IMAGER\n",
    "\n",
    "Now we'll write the functions that add the visibilities in an ACM coherently for a position $(l, m)$ on the sky.\n",
    "\n",
    "That is done using the van-Cittert-Zernike theorem.\n",
    "\n",
    "**QUESTION**\n",
    "\n",
    "1. Write down the equation that converts complex cross correlation products (visibilities) per baseline into an image of the sky, under the condition that the $w$ coordinate of the baselines is negligible (verify that this is the case, given the observing wavelength and the antenna coordinates in the plane of the station). Assume that $u$ and $v$ are given in meters, and that the observing frequency is provided.\n",
    "\n",
    "A.: Use equation 3.198\n",
    "\\begin{equation}\n",
    "\\frac{I(l, m)}{\\sqrt{1-l^2-m^2}} = \\iint_{-\\infty}^{+\\infty}  v(u, v) \\mathrm{e}^{2\\pi\\mathrm{i}\\nu(ul+vm)/c}\\hspace{3ex} \\mathrm{d}u\\ \\mathrm{d}v\n",
    "\\end{equation}\n",
    "\n",
    "\n",
    "We are working towards a function that computes the modified brightness-distribution for a single pixel. Because we currently know the visibilities and the observing frequency (as well as the speed of light), and $l$ and $m$ are provided as parameters to the function, we first write a function that computes the $u$ and $v$ coordinates of all baselines between antennas within the station in meters. We'll use the convention that the $uv$ vector points from antenna 1 towards antenna 2."
   ]
  },
  {
   "cell_type": "code",
   "execution_count": null,
   "id": "159c11f4-c00c-4d1a-9dc9-9c8c0ec858e4",
   "metadata": {},
   "outputs": [],
   "source": [
    "def compute_uv_coordinates(ant_pos, dtype=np.float32):\n",
    "    r'''\n",
    "    Return an array of all uv-coordinates. The array has a shape of\n",
    "    (num_ant, num_ant, 2), and should be of type `dtype`, and unit \n",
    "    `astropy.units.m`\n",
    "    '''\n",
    "    num_ant = len(ant_pos)\n",
    "    u_ant = ant_pos[:,0]   # FILL_IN\n",
    "    v_ant = ant_pos[:,1]   # FILL_IN\n",
    "    result = np.zeros((num_ant, num_ant, 2), dtype=dtype)*u.m\n",
    "    for ant1 in range(num_ant):\n",
    "        for ant2 in range(num_ant):\n",
    "            #result[ant1, ant2, 0] = u_ant[ant2] - u_ant[ant1]   # FILL_IN\n",
    "            #result[ant1, ant2, 1] = v_ant[ant2] - v_ant[ant1]   # FILL_IN\n",
    "            result[ant1, ant2] = ant_pos[ant2,:2] - ant_pos[ant1,:2]  #FILL_IN (alternative implementation)\n",
    "    return result\n",
    "\n",
    "# TEST CODE\n",
    "uv             = compute_uv_coordinates(ant_pos)\n",
    "anti_symmetric = (uv == -uv.transpose((1,0,2))).all()\n",
    "point_check    = (uv[19,7] - np.array([6.4685407, -12.008927])*u.m) < 1*u.um\n",
    "if anti_symmetric and point_check.all():\n",
    "    print('CORRECT!')\n",
    "else:\n",
    "    print('Not yet there...')"
   ]
  },
  {
   "cell_type": "markdown",
   "id": "cd6f7fdc-40fa-4c8e-9b7a-24b56dedc79c",
   "metadata": {},
   "source": [
    "Time to plot the $uv$-plane. Left: every visibility at its ($u$, $v$) coordinates. Right: the $uv$ distance of each antenna pair."
   ]
  },
  {
   "cell_type": "code",
   "execution_count": null,
   "id": "cb75652c-1c54-4152-ad0b-69f821093015",
   "metadata": {},
   "outputs": [],
   "source": [
    "fig, (ax_cov, ax_mat) = hdfig((1,2),figsize=(10,3.5))\n",
    "uv_reshaped = uv.reshape((-1, 2))\n",
    "ax_cov.set_title('$uv$-coverage LOFAR CS501 LBA_OUTER')\n",
    "ax_cov.set_xlabel('$u$ [%s]' % uv.unit)\n",
    "ax_cov.set_ylabel('$v$ [%s]' % uv.unit)\n",
    "ax_cov.scatter(uv_reshaped[:,0], uv_reshaped[:,1], alpha=0.2)\n",
    "ax_cov.axis('equal')\n",
    "\n",
    "ax_mat.set_title('Length of the baseline vector per antenna pair.')\n",
    "mp_mat = ax_mat.imshow(np.linalg.norm(uv, axis=2).value)\n",
    "cb = fig.colorbar(mp_mat)"
   ]
  },
  {
   "cell_type": "markdown",
   "id": "56e317f8-7e79-4270-a583-aaeba49653fc",
   "metadata": {},
   "source": [
    "**QUESTION**\n",
    "\n",
    "1. Compare to the ACM. Compare and explain what you see.\n",
    "\n",
    "A: The bands showing short baselines in here, coincide with the light bands indicating high visibility power in the ACM. Short baselines means large scales on the sky, so apparently there are / (is a) very large, bright source somehwhere out there."
   ]
  },
  {
   "cell_type": "code",
   "execution_count": null,
   "id": "5b093e07-5399-4a65-aa21-e0c17f722817",
   "metadata": {},
   "outputs": [],
   "source": []
  },
  {
   "cell_type": "markdown",
   "id": "471196c0-2912-4c74-bedd-563ffcc98500",
   "metadata": {},
   "source": [
    "As the code you are about to develop is somewhat time critical, it is important to understand that 32-bit floating point numbers (`np.float32` and `np.complex64`) can be manipulated MUCH faster than their 64-bit equivalents (`np.float`, `np.float64`, `np.complex128`). Furthermore, any units conversion/handling should happen at the beginning of time-critical functions, not in the inner compute loops. This is especially important for the actual brightness-computing functions."
   ]
  },
  {
   "cell_type": "code",
   "execution_count": null,
   "id": "4afce533-69f4-431d-b0e8-11a0d5b9b641",
   "metadata": {},
   "outputs": [],
   "source": [
    "from scipy import constants as const\n",
    "\n",
    "def pixel_brightness_snail(acm_single_pol, l, m, ant_pos, frequency):\n",
    "    a = acm_single_pol\n",
    "    u_ant = ant_pos[:,0]\n",
    "    v_ant = ant_pos[:,1]\n",
    "    f = frequency.to(u.Hz)\n",
    "    brightness = 0.0\n",
    "    num_vis = 0\n",
    "    for ant1 in range(acm_single_pol.shape[0]):\n",
    "        for ant2 in range(acm_single_pol.shape[0]):\n",
    "            if ant1 != ant2: # only add cross-correltions, no auto-correlations\n",
    "                uu = u_ant[ant2] - u_ant[ant1]\n",
    "                vv = v_ant[ant2] - v_ant[ant1]\n",
    "                brightness += (a[ant1, ant2]*np.exp(2j*np.pi*f*(uu.to(u.m)*l.to(u.rad) + vv.to(u.m)*m.to(u.rad))/(const.c*u.m/u.s))).real\n",
    "                num_vis += 1\n",
    "    return brightness/num_vis\n",
    "\n",
    "def pixel_brightness_faster(acm_single_pol, l, m, uv, frequency):\n",
    "    a = acm_single_pol.astype(np.complex64)\n",
    "    f = frequency.to(u.Hz).value\n",
    "    uv_l = uv.to(u.m).value\n",
    "    uv_l *= f/const.c\n",
    "    brightness = 0.0\n",
    "    num_vis = 0\n",
    "    ll = l.to(u.rad).value.astype(np.float32)\n",
    "    mm = m.to(u.rad).value.astype(np.float32)\n",
    "    for a1 in range(acm_single_pol.shape[0]):\n",
    "        for a2 in range(acm_single_pol.shape[0]):\n",
    "            if a1 != a2: # only add cross-correltions, no auto-correlations\n",
    "                brightness += (a[a1, a2]*np.exp(2j*np.pi*(uv_l[a1,a2,0]*ll + uv_l[a1,a2,1]*mm))).real\n",
    "                num_vis += 1\n",
    "    return brightness/num_vis\n",
    "\n",
    "\n",
    "def pixel_brightness_lightning(acm_single_pol, l, m, uv, frequency):\n",
    "    a = acm_single_pol.astype(np.complex64)\n",
    "    n = a.shape[0]     # number of antennas\n",
    "    f = frequency.to(u.Hz).value\n",
    "    uv_l = uv.to(u.m).value.astype(np.float32)\n",
    "    uv_l *= f/const.c\n",
    "    ll = l.to(u.rad).value\n",
    "    mm = m.to(u.rad).value\n",
    "    mask = np.ones((n, n), dtype=np.float32)\n",
    "    mask -= np.diag(np.ones(n, dtype=np.float32)) # remove auto-correlations\n",
    "    num_vis = mask.sum()\n",
    "    brightness = (a*mask*np.exp(2j*np.pi*(uv_l[...,0]*ll + uv_l[...,1]*mm))).real.sum()\n",
    "    return brightness/num_vis   "
   ]
  },
  {
   "cell_type": "markdown",
   "id": "04cf3a96-9244-470f-b281-e546544d7520",
   "metadata": {},
   "source": [
    "## Selecting data and setting parameters\n",
    "\n",
    "1. Given the antenna configuration and/or the $uv$ coverage, calculate how many pixels are required across the full sky's (projected) diameter to over sample the FHWM resolution of the instrument by at least a factor of 2.5. Note that an all-sky image in SIN projection is 2~rad across.\n",
    "\n",
    "A: 75 or more"
   ]
  },
  {
   "cell_type": "code",
   "execution_count": null,
   "id": "e031982f-cf77-47f5-938e-eda9e6d45ce4",
   "metadata": {},
   "outputs": [],
   "source": [
    "over_sampling = 2.5   # EXAMPLE CALCULATION\n",
    "pixel_separation = (const.c*u.m/u.s/subband_frequency(290)/(80*u.m)).to(u.dimensionless_unscaled)/over_sampling\n",
    "num_pix = 2.0/pixel_separation\n",
    "num_pix"
   ]
  },
  {
   "cell_type": "markdown",
   "id": "6dd496fe-2eb2-4668-a530-0e5947f2dc2e",
   "metadata": {},
   "source": [
    "Although in FFT imaging, one often chooses a number of pixels that is a power of two, and chooses the phase centre to be at pixel n//2, for this all-sky imaging, we'll be using an odd number of pixels, such that the horizon is nicely symmetric."
   ]
  },
  {
   "cell_type": "code",
   "execution_count": null,
   "id": "b88a0606-5f3a-43fd-8c56-cc0511af1454",
   "metadata": {},
   "outputs": [],
   "source": [
    "num_pix = 75    # FILL_IN"
   ]
  },
  {
   "cell_type": "markdown",
   "id": "b93db1cb-8026-48c0-9cc9-78513c9c5bf7",
   "metadata": {},
   "source": [
    "Now we need to select the array correlation matrices of the xx and yy correlations, to make separate images and combine them afterward."
   ]
  },
  {
   "cell_type": "code",
   "execution_count": null,
   "id": "41d53d5c-d3d3-4806-82d8-404b6a83584d",
   "metadata": {},
   "outputs": [],
   "source": [
    "acm_xx = acm_cube[:,1::2,1::2].mean(axis=0).astype(np.complex64) # FILL_IN\n",
    "acm_yy = acm_cube[:,0::2,0::2].mean(axis=0).astype(np.complex64) # FILL_IN\n",
    "acm_xx.shape, acm_xx.dtype"
   ]
  },
  {
   "cell_type": "code",
   "execution_count": null,
   "id": "fe022eb5-7a53-4f68-9985-71693661e65e",
   "metadata": {},
   "outputs": [],
   "source": [
    "from tqdm.notebook import tqdm  # progress bar!\n",
    "\n",
    "def make_image(acm, num_pix, uv, frequency, l_range=(1.0, -1.0), m_range=(-1.0, 1.0)):\n",
    "    r'''\n",
    "    The returned image should have its origin pixel (0,0) in bottom-left corner (south-east).\n",
    "    '''\n",
    "    img = np.zeros((num_pix, num_pix), dtype=np.float32)\n",
    "    l_coor = np.linspace(*l_range, num_pix)*u.rad\n",
    "    m_coor = np.linspace(*m_range, num_pix)*u.rad\n",
    "\n",
    "    for m_ix, m in enumerate(tqdm(m_coor)):\n",
    "        for l_ix, l in enumerate(l_coor):\n",
    "            img[m_ix, l_ix] = pixel_brightness_lightning(acm, l, m, uv, frequency)\n",
    "    pixel_sep = m_coor[1]-m_coor[0]\n",
    "    half = pixel_sep.to(u.rad).value/2.0\n",
    "    img_extent =(l_coor[0].to(u.rad).value+half, m_coor[0].to(u.rad).value-half, \n",
    "                 l_coor[-1].to(u.rad).value-half, m_coor[-1].to(u.rad).value+half)    \n",
    "    return img, img_extent"
   ]
  },
  {
   "cell_type": "code",
   "execution_count": null,
   "id": "e158156d-4f38-4cf8-9102-8a131a3783d0",
   "metadata": {},
   "outputs": [],
   "source": [
    "frequency = subband_frequency(290)                  # FILL_IN\n",
    "img_xx, extent = make_image(acm_xx, num_pix, uv, frequency) # FILL_IN\n",
    "img_yy, _      = make_image(acm_yy, num_pix, uv, frequency) # FILL_IN\n",
    "img_I = img_xx+img_yy # FILL_IN Stokes I image"
   ]
  },
  {
   "cell_type": "code",
   "execution_count": null,
   "id": "fd6ada6e-9372-4207-94d4-e783754d3f84",
   "metadata": {},
   "outputs": [],
   "source": [
    "fig, ((ax_xx, ax_yy), (ax_i, _)) = hdfig((2,2), figsize=(8,6))\n",
    "ax_xx.set_title('XX')\n",
    "mp_xx = ax_xx.imshow(img_xx, origin='lower', extent=extent)\n",
    "ax_yy.set_title('YY')\n",
    "mp_yy = ax_yy.imshow(img_yy, origin='lower', extent=extent)\n",
    "ax_i.set_title('I')\n",
    "mp_i = ax_i.imshow(img_I, origin='lower', extent=extent)\n",
    "\n",
    "fig.colorbar(mp_xx, ax=ax_xx)\n",
    "fig.colorbar(mp_yy, ax=ax_yy)\n",
    "fig.colorbar(mp_i, ax=ax_i)\n",
    "\n",
    "img_I.max()"
   ]
  },
  {
   "cell_type": "markdown",
   "id": "fc527c6d-efc6-4ff7-91ec-00efccf0e461",
   "metadata": {},
   "source": [
    "**QUESTIONS**\n",
    "\n",
    "1. Where are North, South, East and West?\n",
    "\n",
    "A: Top, Bottom, Left, Right\n",
    "\n",
    "2. Where are POSITIVE l and m?\n",
    "\n",
    "A: East (left) and North (top)\n",
    "\n",
    "3. Where is the horizon?\n",
    "\n",
    "A: it is the inscribed circle of this square image.\n",
    "\n",
    "4. Identify the bright compact objects at the top-left and  centre-left, as well as the curved elongated structure running from the bottom-centre towards the compact objects.\n",
    "\n",
    "A: top-left: Cassiopeia A, centre-left: Cygnus A, elongated structure: Milky way.\n",
    "\n",
    "5. Why are the relative brightnesses of the sources so different between the XX and YY maps?\n",
    "\n",
    "A: The X and Y dipoles are orthogonal and each have a relatively elliptical beam shape. Of course, intrinsic source polarization could also cause differences, however, at such f=low frequencies, very few sources are significantly polarized, and polarized sources are unlikely to show systematic behaviour at scales in the sky comparable to the antenna beam pattern.\n",
    "\n",
    "6. We have added the xx and yy *images*. Would it also have been possible to add the xx and yy ACMs before imaging? Why or why not?\n",
    "\n",
    "A: Yes, because the Fourier transform is a linear operator. It would actually save almost a factor 2 in computation!"
   ]
  },
  {
   "cell_type": "markdown",
   "id": "2e49d079-c173-458e-9dd2-b33510e3ee7a",
   "metadata": {},
   "source": [
    "## PSF\n",
    "\n",
    "The images above look messy because of the limited sampling of the $uv$-space. Effectively, the Fourier transform of the sky is multiplied by a weight function that's 1 where there's a visibility, and 0 elsewhere. This multiplication in $uv$-space lead to a convolution with a point spread function (PSF) in the image.\n",
    "\n",
    "Calculate and plot the PSF across a range of l=(1,-1), m=(-1,1)."
   ]
  },
  {
   "cell_type": "code",
   "execution_count": null,
   "id": "b4603d1b-6983-4335-96e7-a325782db13f",
   "metadata": {},
   "outputs": [],
   "source": [
    "psf, psf_extent = make_image(np.ones_like(acm_xx), num_pix, uv, frequency) # FILL_IN"
   ]
  },
  {
   "cell_type": "code",
   "execution_count": null,
   "id": "9e98981e-4c6f-4ac2-888f-6d6c3bbc282a",
   "metadata": {},
   "outputs": [],
   "source": [
    "fig, ax = hdfig((1,1))\n",
    "ax.imshow(psf, origin='lower', extent=psf_extent, vmin=-0.05, vmax=0.1) # FILL_IN"
   ]
  },
  {
   "cell_type": "markdown",
   "id": "d54ae180-5064-4693-815c-a578ae79a04d",
   "metadata": {},
   "source": [
    "## CLEAN"
   ]
  },
  {
   "cell_type": "markdown",
   "id": "cc73943e-2b9d-4039-ac9e-a89507282403",
   "metadata": {},
   "source": [
    "Knowing the PSF, and having read Hogbom's paper, try to implement the CLEAN algorithm yourself. (Entirely voluntary, but highly instructive)"
   ]
  },
  {
   "cell_type": "code",
   "execution_count": null,
   "id": "97ced125-548c-4d6f-ad55-5692d4955f5c",
   "metadata": {},
   "outputs": [],
   "source": [
    "# FILL_IN"
   ]
  },
  {
   "cell_type": "code",
   "execution_count": null,
   "id": "81d1933a-b445-40e2-8f73-2f3f381b14af",
   "metadata": {},
   "outputs": [],
   "source": []
  }
 ],
 "metadata": {
  "kernelspec": {
   "display_name": "Python 3 (ipykernel)",
   "language": "python",
   "name": "python3"
  },
  "language_info": {
   "codemirror_mode": {
    "name": "ipython",
    "version": 3
   },
   "file_extension": ".py",
   "mimetype": "text/x-python",
   "name": "python",
   "nbconvert_exporter": "python",
   "pygments_lexer": "ipython3",
   "version": "3.11.5"
  }
 },
 "nbformat": 4,
 "nbformat_minor": 5
}
